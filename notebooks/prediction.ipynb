{
 "cells": [
  {
   "cell_type": "markdown",
   "id": "ebb577d0",
   "metadata": {},
   "source": [
    "# RNNLyze\n",
    "RNNLyze is a sentiment analysis project using Recurrent Neural Networks (RNNs) on the IMDB movie review dataset. It classifies reviews as positive or negative by capturing sequential word patterns, showcasing deep learning’s ability to understand natural language and emotional tone in text-based data."
   ]
  },
  {
   "cell_type": "markdown",
   "id": "d61da23f",
   "metadata": {},
   "source": [
    "## Importing the libraries"
   ]
  },
  {
   "cell_type": "code",
   "execution_count": null,
   "id": "0f204759",
   "metadata": {},
   "outputs": [],
   "source": [
    "from tensorflow.keras.datasets import imdb\n",
    "from tensorflow.keras.preprocessing import sequence\n",
    "from tensorflow.keras.models import load_model"
   ]
  },
  {
   "cell_type": "markdown",
   "id": "c8559e7f",
   "metadata": {},
   "source": [
    "## Load the IMDB dataset word index"
   ]
  },
  {
   "cell_type": "code",
   "execution_count": 19,
   "id": "a6e71f84",
   "metadata": {},
   "outputs": [],
   "source": [
    "word_index = imdb.get_word_index()\n",
    "reverse_word_index = {value: key for key, value in word_index.items()}"
   ]
  },
  {
   "cell_type": "markdown",
   "id": "b664c278",
   "metadata": {},
   "source": [
    "## Loading the pre-trained model with ReLU activation"
   ]
  },
  {
   "cell_type": "code",
   "execution_count": 20,
   "id": "71441925",
   "metadata": {},
   "outputs": [
    {
     "name": "stderr",
     "output_type": "stream",
     "text": [
      "WARNING:absl:Compiled the loaded model, but the compiled metrics have yet to be built. `model.compile_metrics` will be empty until you train or evaluate the model.\n"
     ]
    }
   ],
   "source": [
    "model = load_model('../artifacts/model.h5')"
   ]
  },
  {
   "cell_type": "code",
   "execution_count": 27,
   "id": "633f762a",
   "metadata": {},
   "outputs": [],
   "source": [
    "model.compile(\n",
    "    optimizer='adam',\n",
    "    loss='binary_crossentropy',\n",
    "    metrics=['accuracy']\n",
    ")"
   ]
  },
  {
   "cell_type": "code",
   "execution_count": 28,
   "id": "d9b34c7d",
   "metadata": {},
   "outputs": [
    {
     "data": {
      "text/html": [
       "<pre style=\"white-space:pre;overflow-x:auto;line-height:normal;font-family:Menlo,'DejaVu Sans Mono',consolas,'Courier New',monospace\"><span style=\"font-weight: bold\">Model: \"sequential\"</span>\n",
       "</pre>\n"
      ],
      "text/plain": [
       "\u001b[1mModel: \"sequential\"\u001b[0m\n"
      ]
     },
     "metadata": {},
     "output_type": "display_data"
    },
    {
     "data": {
      "text/html": [
       "<pre style=\"white-space:pre;overflow-x:auto;line-height:normal;font-family:Menlo,'DejaVu Sans Mono',consolas,'Courier New',monospace\">┏━━━━━━━━━━━━━━━━━━━━━━━━━━━━━━━━━┳━━━━━━━━━━━━━━━━━━━━━━━━┳━━━━━━━━━━━━━━━┓\n",
       "┃<span style=\"font-weight: bold\"> Layer (type)                    </span>┃<span style=\"font-weight: bold\"> Output Shape           </span>┃<span style=\"font-weight: bold\">       Param # </span>┃\n",
       "┡━━━━━━━━━━━━━━━━━━━━━━━━━━━━━━━━━╇━━━━━━━━━━━━━━━━━━━━━━━━╇━━━━━━━━━━━━━━━┩\n",
       "│ embedding (<span style=\"color: #0087ff; text-decoration-color: #0087ff\">Embedding</span>)           │ (<span style=\"color: #00af00; text-decoration-color: #00af00\">32</span>, <span style=\"color: #00af00; text-decoration-color: #00af00\">500</span>, <span style=\"color: #00af00; text-decoration-color: #00af00\">128</span>)         │     <span style=\"color: #00af00; text-decoration-color: #00af00\">1,280,000</span> │\n",
       "├─────────────────────────────────┼────────────────────────┼───────────────┤\n",
       "│ simple_rnn (<span style=\"color: #0087ff; text-decoration-color: #0087ff\">SimpleRNN</span>)          │ (<span style=\"color: #00af00; text-decoration-color: #00af00\">32</span>, <span style=\"color: #00af00; text-decoration-color: #00af00\">128</span>)              │        <span style=\"color: #00af00; text-decoration-color: #00af00\">32,896</span> │\n",
       "├─────────────────────────────────┼────────────────────────┼───────────────┤\n",
       "│ dense (<span style=\"color: #0087ff; text-decoration-color: #0087ff\">Dense</span>)                   │ (<span style=\"color: #00af00; text-decoration-color: #00af00\">32</span>, <span style=\"color: #00af00; text-decoration-color: #00af00\">1</span>)                │           <span style=\"color: #00af00; text-decoration-color: #00af00\">129</span> │\n",
       "└─────────────────────────────────┴────────────────────────┴───────────────┘\n",
       "</pre>\n"
      ],
      "text/plain": [
       "┏━━━━━━━━━━━━━━━━━━━━━━━━━━━━━━━━━┳━━━━━━━━━━━━━━━━━━━━━━━━┳━━━━━━━━━━━━━━━┓\n",
       "┃\u001b[1m \u001b[0m\u001b[1mLayer (type)                   \u001b[0m\u001b[1m \u001b[0m┃\u001b[1m \u001b[0m\u001b[1mOutput Shape          \u001b[0m\u001b[1m \u001b[0m┃\u001b[1m \u001b[0m\u001b[1m      Param #\u001b[0m\u001b[1m \u001b[0m┃\n",
       "┡━━━━━━━━━━━━━━━━━━━━━━━━━━━━━━━━━╇━━━━━━━━━━━━━━━━━━━━━━━━╇━━━━━━━━━━━━━━━┩\n",
       "│ embedding (\u001b[38;5;33mEmbedding\u001b[0m)           │ (\u001b[38;5;34m32\u001b[0m, \u001b[38;5;34m500\u001b[0m, \u001b[38;5;34m128\u001b[0m)         │     \u001b[38;5;34m1,280,000\u001b[0m │\n",
       "├─────────────────────────────────┼────────────────────────┼───────────────┤\n",
       "│ simple_rnn (\u001b[38;5;33mSimpleRNN\u001b[0m)          │ (\u001b[38;5;34m32\u001b[0m, \u001b[38;5;34m128\u001b[0m)              │        \u001b[38;5;34m32,896\u001b[0m │\n",
       "├─────────────────────────────────┼────────────────────────┼───────────────┤\n",
       "│ dense (\u001b[38;5;33mDense\u001b[0m)                   │ (\u001b[38;5;34m32\u001b[0m, \u001b[38;5;34m1\u001b[0m)                │           \u001b[38;5;34m129\u001b[0m │\n",
       "└─────────────────────────────────┴────────────────────────┴───────────────┘\n"
      ]
     },
     "metadata": {},
     "output_type": "display_data"
    },
    {
     "data": {
      "text/html": [
       "<pre style=\"white-space:pre;overflow-x:auto;line-height:normal;font-family:Menlo,'DejaVu Sans Mono',consolas,'Courier New',monospace\"><span style=\"font-weight: bold\"> Total params: </span><span style=\"color: #00af00; text-decoration-color: #00af00\">1,313,025</span> (5.01 MB)\n",
       "</pre>\n"
      ],
      "text/plain": [
       "\u001b[1m Total params: \u001b[0m\u001b[38;5;34m1,313,025\u001b[0m (5.01 MB)\n"
      ]
     },
     "metadata": {},
     "output_type": "display_data"
    },
    {
     "data": {
      "text/html": [
       "<pre style=\"white-space:pre;overflow-x:auto;line-height:normal;font-family:Menlo,'DejaVu Sans Mono',consolas,'Courier New',monospace\"><span style=\"font-weight: bold\"> Trainable params: </span><span style=\"color: #00af00; text-decoration-color: #00af00\">1,313,025</span> (5.01 MB)\n",
       "</pre>\n"
      ],
      "text/plain": [
       "\u001b[1m Trainable params: \u001b[0m\u001b[38;5;34m1,313,025\u001b[0m (5.01 MB)\n"
      ]
     },
     "metadata": {},
     "output_type": "display_data"
    },
    {
     "data": {
      "text/html": [
       "<pre style=\"white-space:pre;overflow-x:auto;line-height:normal;font-family:Menlo,'DejaVu Sans Mono',consolas,'Courier New',monospace\"><span style=\"font-weight: bold\"> Non-trainable params: </span><span style=\"color: #00af00; text-decoration-color: #00af00\">0</span> (0.00 B)\n",
       "</pre>\n"
      ],
      "text/plain": [
       "\u001b[1m Non-trainable params: \u001b[0m\u001b[38;5;34m0\u001b[0m (0.00 B)\n"
      ]
     },
     "metadata": {},
     "output_type": "display_data"
    }
   ],
   "source": [
    "model.summary()"
   ]
  },
  {
   "cell_type": "code",
   "execution_count": 29,
   "id": "345914c3",
   "metadata": {},
   "outputs": [
    {
     "data": {
      "text/plain": [
       "[array([[-0.35407412,  0.69421554, -0.40328553, ...,  0.39134753,\n",
       "         -0.57421196, -0.35356033],\n",
       "        [ 0.00192843, -0.05484263,  0.04957389, ..., -0.06532998,\n",
       "          0.02492451,  0.04131795],\n",
       "        [ 0.07236484,  0.15738153, -0.10969031, ..., -0.05071227,\n",
       "          0.11380179, -0.0853823 ],\n",
       "        ...,\n",
       "        [ 0.05270645,  0.02612012, -0.04328598, ..., -0.03760628,\n",
       "         -0.02308356,  0.01685   ],\n",
       "        [-0.02866045, -0.00366428, -0.04996871, ...,  0.00192786,\n",
       "          0.01007101,  0.02042607],\n",
       "        [ 0.04674609, -0.01211573,  0.13030677, ..., -0.14254895,\n",
       "          0.04083825,  0.08500583]], dtype=float32),\n",
       " array([[-0.05380649,  0.10332305, -0.06657583, ...,  0.10025306,\n",
       "         -0.11843405, -0.0220889 ],\n",
       "        [-0.14895739, -0.04537521,  0.01879548, ..., -0.13267952,\n",
       "         -0.10499763, -0.17104584],\n",
       "        [-0.05792483,  0.02407357,  0.07676655, ..., -0.10588258,\n",
       "          0.15190955,  0.06599898],\n",
       "        ...,\n",
       "        [-0.05384466, -0.16263503,  0.21613212, ..., -0.03999879,\n",
       "         -0.08480822, -0.0876739 ],\n",
       "        [ 0.1694846 ,  0.1506196 , -0.01350043, ...,  0.07593164,\n",
       "         -0.05503315,  0.16342475],\n",
       "        [-0.05397322,  0.01645201,  0.03393736, ...,  0.12643555,\n",
       "          0.12286204, -0.00731974]], dtype=float32),\n",
       " array([[-0.00732694,  0.02306401, -0.06221063, ..., -0.02440837,\n",
       "         -0.07160392,  0.02424127],\n",
       "        [-0.13163662, -0.00830644,  0.01057129, ..., -0.04743548,\n",
       "         -0.01999816,  0.11005956],\n",
       "        [-0.21258895, -0.03426124,  0.0758712 , ..., -0.03262596,\n",
       "          0.07971849, -0.18820626],\n",
       "        ...,\n",
       "        [-0.14992878, -0.06802972,  0.001948  , ...,  0.06828674,\n",
       "         -0.01371238, -0.01660108],\n",
       "        [-0.00580077, -0.0052358 ,  0.09302282, ...,  0.20062764,\n",
       "          0.1252919 ,  0.04319627],\n",
       "        [ 0.04638017,  0.09832718, -0.00825971, ...,  0.01891356,\n",
       "          0.02637942, -0.12715192]], dtype=float32),\n",
       " array([-0.02549846,  0.00453536, -0.01529036, -0.02074177, -0.03938153,\n",
       "        -0.02436934, -0.04148299, -0.01705682, -0.0317059 ,  0.01060104,\n",
       "         0.0165283 , -0.00237863, -0.03204324, -0.02839261, -0.01786621,\n",
       "         0.00977526, -0.02438282,  0.02485587,  0.01049748, -0.02143073,\n",
       "         0.01517738,  0.01315643,  0.00476888,  0.01871331,  0.00882158,\n",
       "         0.0099535 ,  0.0311615 , -0.0334856 ,  0.00962908, -0.02354648,\n",
       "        -0.05159793,  0.00436833,  0.03337743, -0.03074441, -0.02661664,\n",
       "        -0.00256836,  0.02440674,  0.02309962, -0.03129761,  0.01294743,\n",
       "         0.0120661 , -0.01067938, -0.01622037, -0.02236954, -0.03191484,\n",
       "         0.00430889,  0.01797719,  0.03055646, -0.00165839, -0.02160953,\n",
       "        -0.04285033, -0.02110866, -0.05066946,  0.02130423,  0.00557879,\n",
       "         0.00803741, -0.03537305, -0.02290993, -0.00893868,  0.04172065,\n",
       "         0.0106266 , -0.0233682 , -0.03124019, -0.00547872,  0.01497407,\n",
       "        -0.04600669,  0.00498506, -0.01168416,  0.01450174, -0.02975302,\n",
       "         0.08779982,  0.00182689, -0.01656997, -0.02591364,  0.01470587,\n",
       "        -0.02183142, -0.03112398,  0.03543622, -0.00905754,  0.02327115,\n",
       "        -0.02711753,  0.02557133, -0.03567915,  0.0404835 , -0.01066484,\n",
       "        -0.02186676,  0.02266288,  0.00163883,  0.01874859,  0.00945727,\n",
       "         0.03343779, -0.02370033, -0.05931681,  0.0142026 ,  0.01616964,\n",
       "        -0.01451478,  0.00908977, -0.00428623,  0.01317419,  0.01747134,\n",
       "        -0.00032789, -0.00588372,  0.01375513,  0.01459391,  0.00373047,\n",
       "         0.01798273,  0.04729152, -0.01625737,  0.00327876, -0.02448476,\n",
       "        -0.0536271 ,  0.03633188, -0.05090487, -0.02732377,  0.02073394,\n",
       "         0.02179601, -0.00427541, -0.00668414, -0.0499292 , -0.02357659,\n",
       "        -0.0368965 , -0.02218209,  0.04045546,  0.0145364 ,  0.01525534,\n",
       "        -0.00593468, -0.01778615,  0.02263541], dtype=float32),\n",
       " array([[-0.19496869],\n",
       "        [ 0.09265303],\n",
       "        [-0.15618563],\n",
       "        [-0.20937479],\n",
       "        [-0.18819977],\n",
       "        [ 0.17297983],\n",
       "        [-0.02813124],\n",
       "        [ 0.23226039],\n",
       "        [ 0.09139162],\n",
       "        [ 0.33795667],\n",
       "        [-0.0666922 ],\n",
       "        [ 0.2026715 ],\n",
       "        [-0.5430167 ],\n",
       "        [ 0.03997189],\n",
       "        [-0.00964064],\n",
       "        [ 0.21835557],\n",
       "        [-0.02015297],\n",
       "        [ 0.5466873 ],\n",
       "        [-0.13228548],\n",
       "        [-0.16772991],\n",
       "        [ 0.11689721],\n",
       "        [ 0.2114251 ],\n",
       "        [-0.04644167],\n",
       "        [ 0.10828979],\n",
       "        [ 0.12500323],\n",
       "        [-0.14233701],\n",
       "        [-0.08350279],\n",
       "        [-0.18482468],\n",
       "        [-0.18108346],\n",
       "        [ 0.05906989],\n",
       "        [-0.16492273],\n",
       "        [-0.17200167],\n",
       "        [ 0.04111264],\n",
       "        [-0.02682672],\n",
       "        [ 0.17445447],\n",
       "        [ 0.21435583],\n",
       "        [-0.22950569],\n",
       "        [-0.29331556],\n",
       "        [ 0.01715896],\n",
       "        [-0.03862947],\n",
       "        [ 0.25855502],\n",
       "        [ 0.11826284],\n",
       "        [-0.16362533],\n",
       "        [ 0.13142766],\n",
       "        [ 0.09051442],\n",
       "        [-0.11515593],\n",
       "        [-0.14788446],\n",
       "        [ 0.22003947],\n",
       "        [-0.10718821],\n",
       "        [-0.227631  ],\n",
       "        [-0.01439593],\n",
       "        [-0.11839014],\n",
       "        [ 0.18747646],\n",
       "        [ 0.24767423],\n",
       "        [-0.10568617],\n",
       "        [ 0.10051607],\n",
       "        [ 0.18136232],\n",
       "        [-0.01278288],\n",
       "        [ 0.6370666 ],\n",
       "        [-0.02276218],\n",
       "        [-0.8921925 ],\n",
       "        [ 0.01944298],\n",
       "        [ 0.03277499],\n",
       "        [-0.08603485],\n",
       "        [-0.20558189],\n",
       "        [-0.24941105],\n",
       "        [ 0.07269517],\n",
       "        [-0.31634971],\n",
       "        [-0.10689698],\n",
       "        [ 0.05247008],\n",
       "        [-0.10198003],\n",
       "        [-0.07547062],\n",
       "        [ 0.10847747],\n",
       "        [ 0.18339689],\n",
       "        [-0.1664976 ],\n",
       "        [ 0.04336778],\n",
       "        [-0.2084087 ],\n",
       "        [ 0.01568571],\n",
       "        [-0.24370927],\n",
       "        [-0.14561257],\n",
       "        [ 0.02117407],\n",
       "        [-0.2970285 ],\n",
       "        [-0.08675863],\n",
       "        [ 0.07593469],\n",
       "        [-0.35627776],\n",
       "        [ 0.13687713],\n",
       "        [ 0.10919407],\n",
       "        [ 0.2461858 ],\n",
       "        [-0.17283183],\n",
       "        [-0.09110156],\n",
       "        [ 0.22649862],\n",
       "        [-0.05036111],\n",
       "        [-0.15733984],\n",
       "        [ 0.23666288],\n",
       "        [ 0.0015212 ],\n",
       "        [ 0.05459313],\n",
       "        [ 0.17911956],\n",
       "        [-0.16025944],\n",
       "        [ 0.67475   ],\n",
       "        [-0.20258376],\n",
       "        [ 0.02067913],\n",
       "        [-0.13259596],\n",
       "        [-0.03216498],\n",
       "        [ 0.1787485 ],\n",
       "        [-0.20419587],\n",
       "        [ 0.20346045],\n",
       "        [ 0.0434691 ],\n",
       "        [-0.11261582],\n",
       "        [ 0.15083955],\n",
       "        [-0.10974469],\n",
       "        [ 0.27972588],\n",
       "        [ 0.2250063 ],\n",
       "        [ 0.07934379],\n",
       "        [-0.17004831],\n",
       "        [-0.12651215],\n",
       "        [ 0.21363385],\n",
       "        [-0.10729606],\n",
       "        [ 0.09992163],\n",
       "        [-0.04704123],\n",
       "        [-0.2006456 ],\n",
       "        [-0.21581663],\n",
       "        [-0.21364893],\n",
       "        [ 0.22587621],\n",
       "        [-0.11366166],\n",
       "        [-0.07739193],\n",
       "        [ 0.18945888],\n",
       "        [-0.19466354],\n",
       "        [ 0.17258072]], dtype=float32),\n",
       " array([-0.03138204], dtype=float32)]"
      ]
     },
     "execution_count": 29,
     "metadata": {},
     "output_type": "execute_result"
    }
   ],
   "source": [
    "model.get_weights()"
   ]
  },
  {
   "cell_type": "markdown",
   "id": "c741416a",
   "metadata": {},
   "source": [
    "## Helper Functions"
   ]
  },
  {
   "cell_type": "markdown",
   "id": "4edfae72",
   "metadata": {},
   "source": [
    "### Function to decode reviews"
   ]
  },
  {
   "cell_type": "code",
   "execution_count": 30,
   "id": "3417eaf3",
   "metadata": {},
   "outputs": [],
   "source": [
    "def decode_review(encoded_review):\n",
    "    return ' '.join([reverse_word_index.get(i - 3, '?') for i in encoded_review])"
   ]
  },
  {
   "cell_type": "markdown",
   "id": "3bf1b6a1",
   "metadata": {},
   "source": [
    "### Function to preprocess user input"
   ]
  },
  {
   "cell_type": "code",
   "execution_count": 31,
   "id": "59a51b40",
   "metadata": {},
   "outputs": [],
   "source": [
    "def preprocess_text(text):\n",
    "    words = text.lower().split()\n",
    "    encoded_review = [word_index.get(word, 2) + 3 for word in words]\n",
    "    padded_review = sequence.pad_sequences([encoded_review], maxlen=500)\n",
    "    return padded_review"
   ]
  },
  {
   "cell_type": "markdown",
   "id": "2693729f",
   "metadata": {},
   "source": [
    "### Prediction function"
   ]
  },
  {
   "cell_type": "code",
   "execution_count": 32,
   "id": "efac38b0",
   "metadata": {},
   "outputs": [],
   "source": [
    "def predict_sentiment(review):\n",
    "    preprocessed_input = preprocess_text(review)\n",
    "    prediction = model.predict(preprocessed_input)\n",
    "    sentiment = 'Positive' if prediction[0][0] > 0.5 else 'Negative'\n",
    "    return sentiment, prediction[0][0]"
   ]
  },
  {
   "cell_type": "markdown",
   "id": "160daf32",
   "metadata": {},
   "source": [
    "## Testing with sample input"
   ]
  },
  {
   "cell_type": "code",
   "execution_count": 33,
   "id": "51258390",
   "metadata": {},
   "outputs": [
    {
     "name": "stdout",
     "output_type": "stream",
     "text": [
      "\u001b[1m1/1\u001b[0m \u001b[32m━━━━━━━━━━━━━━━━━━━━\u001b[0m\u001b[37m\u001b[0m \u001b[1m0s\u001b[0m 158ms/step\n",
      "Review: This movie was fantastic! The acting was great and the plot was thrilling.\n",
      "Sentiment: Negative\n",
      "Prediction Score: 0.01244465820491314\n"
     ]
    }
   ],
   "source": [
    "example_review = \"This movie was fantastic! The acting was great and the plot was thrilling.\"\n",
    "\n",
    "sentiment, score = predict_sentiment(example_review)\n",
    "\n",
    "print(f'Review: {example_review}')\n",
    "print(f'Sentiment: {sentiment}')\n",
    "print(f'Prediction Score: {score}')"
   ]
  }
 ],
 "metadata": {
  "kernelspec": {
   "display_name": "venv",
   "language": "python",
   "name": "python3"
  },
  "language_info": {
   "codemirror_mode": {
    "name": "ipython",
    "version": 3
   },
   "file_extension": ".py",
   "mimetype": "text/x-python",
   "name": "python",
   "nbconvert_exporter": "python",
   "pygments_lexer": "ipython3",
   "version": "3.12.9"
  }
 },
 "nbformat": 4,
 "nbformat_minor": 5
}
