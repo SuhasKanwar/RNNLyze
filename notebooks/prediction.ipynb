{
 "cells": [
  {
   "cell_type": "markdown",
   "id": "ebb577d0",
   "metadata": {},
   "source": [
    "# RNNLyze\n",
    "RNNLyze is a sentiment analysis project using Recurrent Neural Networks (RNNs) on the IMDB movie review dataset. It classifies reviews as positive or negative by capturing sequential word patterns, showcasing deep learning’s ability to understand natural language and emotional tone in text-based data."
   ]
  },
  {
   "cell_type": "markdown",
   "id": "d61da23f",
   "metadata": {},
   "source": [
    "## Importing the libraries"
   ]
  },
  {
   "cell_type": "code",
   "execution_count": 11,
   "id": "0f204759",
   "metadata": {},
   "outputs": [],
   "source": [
    "from tensorflow.keras.datasets import imdb\n",
    "from tensorflow.keras.preprocessing import sequence\n",
    "from tensorflow.keras.models import load_model"
   ]
  },
  {
   "cell_type": "markdown",
   "id": "c8559e7f",
   "metadata": {},
   "source": [
    "## Load the IMDB dataset word index"
   ]
  },
  {
   "cell_type": "code",
   "execution_count": 12,
   "id": "a6e71f84",
   "metadata": {},
   "outputs": [],
   "source": [
    "word_index = imdb.get_word_index()\n",
    "reverse_word_index = {value: key for key, value in word_index.items()}"
   ]
  },
  {
   "cell_type": "markdown",
   "id": "b664c278",
   "metadata": {},
   "source": [
    "## Loading the pre-trained model with ReLU activation"
   ]
  },
  {
   "cell_type": "code",
   "execution_count": 13,
   "id": "71441925",
   "metadata": {},
   "outputs": [
    {
     "name": "stderr",
     "output_type": "stream",
     "text": [
      "WARNING:absl:Compiled the loaded model, but the compiled metrics have yet to be built. `model.compile_metrics` will be empty until you train or evaluate the model.\n"
     ]
    }
   ],
   "source": [
    "model = load_model('../artifacts/model.h5')"
   ]
  },
  {
   "cell_type": "code",
   "execution_count": 14,
   "id": "633f762a",
   "metadata": {},
   "outputs": [],
   "source": [
    "model.compile(\n",
    "    optimizer='adam',\n",
    "    loss='binary_crossentropy',\n",
    "    metrics=['accuracy']\n",
    ")"
   ]
  },
  {
   "cell_type": "code",
   "execution_count": 15,
   "id": "d9b34c7d",
   "metadata": {},
   "outputs": [
    {
     "data": {
      "text/html": [
       "<pre style=\"white-space:pre;overflow-x:auto;line-height:normal;font-family:Menlo,'DejaVu Sans Mono',consolas,'Courier New',monospace\"><span style=\"font-weight: bold\">Model: \"sequential\"</span>\n",
       "</pre>\n"
      ],
      "text/plain": [
       "\u001b[1mModel: \"sequential\"\u001b[0m\n"
      ]
     },
     "metadata": {},
     "output_type": "display_data"
    },
    {
     "data": {
      "text/html": [
       "<pre style=\"white-space:pre;overflow-x:auto;line-height:normal;font-family:Menlo,'DejaVu Sans Mono',consolas,'Courier New',monospace\">┏━━━━━━━━━━━━━━━━━━━━━━━━━━━━━━━━━┳━━━━━━━━━━━━━━━━━━━━━━━━┳━━━━━━━━━━━━━━━┓\n",
       "┃<span style=\"font-weight: bold\"> Layer (type)                    </span>┃<span style=\"font-weight: bold\"> Output Shape           </span>┃<span style=\"font-weight: bold\">       Param # </span>┃\n",
       "┡━━━━━━━━━━━━━━━━━━━━━━━━━━━━━━━━━╇━━━━━━━━━━━━━━━━━━━━━━━━╇━━━━━━━━━━━━━━━┩\n",
       "│ embedding (<span style=\"color: #0087ff; text-decoration-color: #0087ff\">Embedding</span>)           │ (<span style=\"color: #00d7ff; text-decoration-color: #00d7ff\">None</span>, <span style=\"color: #00af00; text-decoration-color: #00af00\">500</span>, <span style=\"color: #00af00; text-decoration-color: #00af00\">128</span>)       │     <span style=\"color: #00af00; text-decoration-color: #00af00\">1,280,000</span> │\n",
       "├─────────────────────────────────┼────────────────────────┼───────────────┤\n",
       "│ simple_rnn (<span style=\"color: #0087ff; text-decoration-color: #0087ff\">SimpleRNN</span>)          │ (<span style=\"color: #00d7ff; text-decoration-color: #00d7ff\">None</span>, <span style=\"color: #00af00; text-decoration-color: #00af00\">128</span>)            │        <span style=\"color: #00af00; text-decoration-color: #00af00\">32,896</span> │\n",
       "├─────────────────────────────────┼────────────────────────┼───────────────┤\n",
       "│ dense (<span style=\"color: #0087ff; text-decoration-color: #0087ff\">Dense</span>)                   │ (<span style=\"color: #00d7ff; text-decoration-color: #00d7ff\">None</span>, <span style=\"color: #00af00; text-decoration-color: #00af00\">1</span>)              │           <span style=\"color: #00af00; text-decoration-color: #00af00\">129</span> │\n",
       "└─────────────────────────────────┴────────────────────────┴───────────────┘\n",
       "</pre>\n"
      ],
      "text/plain": [
       "┏━━━━━━━━━━━━━━━━━━━━━━━━━━━━━━━━━┳━━━━━━━━━━━━━━━━━━━━━━━━┳━━━━━━━━━━━━━━━┓\n",
       "┃\u001b[1m \u001b[0m\u001b[1mLayer (type)                   \u001b[0m\u001b[1m \u001b[0m┃\u001b[1m \u001b[0m\u001b[1mOutput Shape          \u001b[0m\u001b[1m \u001b[0m┃\u001b[1m \u001b[0m\u001b[1m      Param #\u001b[0m\u001b[1m \u001b[0m┃\n",
       "┡━━━━━━━━━━━━━━━━━━━━━━━━━━━━━━━━━╇━━━━━━━━━━━━━━━━━━━━━━━━╇━━━━━━━━━━━━━━━┩\n",
       "│ embedding (\u001b[38;5;33mEmbedding\u001b[0m)           │ (\u001b[38;5;45mNone\u001b[0m, \u001b[38;5;34m500\u001b[0m, \u001b[38;5;34m128\u001b[0m)       │     \u001b[38;5;34m1,280,000\u001b[0m │\n",
       "├─────────────────────────────────┼────────────────────────┼───────────────┤\n",
       "│ simple_rnn (\u001b[38;5;33mSimpleRNN\u001b[0m)          │ (\u001b[38;5;45mNone\u001b[0m, \u001b[38;5;34m128\u001b[0m)            │        \u001b[38;5;34m32,896\u001b[0m │\n",
       "├─────────────────────────────────┼────────────────────────┼───────────────┤\n",
       "│ dense (\u001b[38;5;33mDense\u001b[0m)                   │ (\u001b[38;5;45mNone\u001b[0m, \u001b[38;5;34m1\u001b[0m)              │           \u001b[38;5;34m129\u001b[0m │\n",
       "└─────────────────────────────────┴────────────────────────┴───────────────┘\n"
      ]
     },
     "metadata": {},
     "output_type": "display_data"
    },
    {
     "data": {
      "text/html": [
       "<pre style=\"white-space:pre;overflow-x:auto;line-height:normal;font-family:Menlo,'DejaVu Sans Mono',consolas,'Courier New',monospace\"><span style=\"font-weight: bold\"> Total params: </span><span style=\"color: #00af00; text-decoration-color: #00af00\">1,313,025</span> (5.01 MB)\n",
       "</pre>\n"
      ],
      "text/plain": [
       "\u001b[1m Total params: \u001b[0m\u001b[38;5;34m1,313,025\u001b[0m (5.01 MB)\n"
      ]
     },
     "metadata": {},
     "output_type": "display_data"
    },
    {
     "data": {
      "text/html": [
       "<pre style=\"white-space:pre;overflow-x:auto;line-height:normal;font-family:Menlo,'DejaVu Sans Mono',consolas,'Courier New',monospace\"><span style=\"font-weight: bold\"> Trainable params: </span><span style=\"color: #00af00; text-decoration-color: #00af00\">1,313,025</span> (5.01 MB)\n",
       "</pre>\n"
      ],
      "text/plain": [
       "\u001b[1m Trainable params: \u001b[0m\u001b[38;5;34m1,313,025\u001b[0m (5.01 MB)\n"
      ]
     },
     "metadata": {},
     "output_type": "display_data"
    },
    {
     "data": {
      "text/html": [
       "<pre style=\"white-space:pre;overflow-x:auto;line-height:normal;font-family:Menlo,'DejaVu Sans Mono',consolas,'Courier New',monospace\"><span style=\"font-weight: bold\"> Non-trainable params: </span><span style=\"color: #00af00; text-decoration-color: #00af00\">0</span> (0.00 B)\n",
       "</pre>\n"
      ],
      "text/plain": [
       "\u001b[1m Non-trainable params: \u001b[0m\u001b[38;5;34m0\u001b[0m (0.00 B)\n"
      ]
     },
     "metadata": {},
     "output_type": "display_data"
    }
   ],
   "source": [
    "model.summary()"
   ]
  },
  {
   "cell_type": "code",
   "execution_count": 16,
   "id": "345914c3",
   "metadata": {},
   "outputs": [
    {
     "data": {
      "text/plain": [
       "[array([[-9.49481651e-02,  2.17151418e-02, -9.03143585e-01, ...,\n",
       "          7.24639297e-02, -1.27425444e+00, -6.76072121e-01],\n",
       "        [-2.90231556e-02, -9.45311971e-03,  1.11933211e-02, ...,\n",
       "         -2.01410968e-02, -1.11749619e-01,  1.37238996e-04],\n",
       "        [-9.80515182e-02, -1.37851328e-01, -1.87345430e-01, ...,\n",
       "         -7.58864507e-02, -2.01559305e-01, -1.68050706e-01],\n",
       "        ...,\n",
       "        [ 2.22028722e-03, -8.62600207e-02, -6.19908655e-03, ...,\n",
       "         -4.10479046e-02, -8.52762684e-02, -3.26976776e-02],\n",
       "        [-7.13881571e-03,  3.03329788e-02,  1.19076230e-01, ...,\n",
       "          1.04898721e-01,  1.19950324e-01,  7.92448446e-02],\n",
       "        [ 6.31245002e-02,  4.72657531e-02, -5.67620248e-02, ...,\n",
       "          1.25424698e-01,  2.06309129e-02,  1.34032175e-01]], dtype=float32),\n",
       " array([[ 0.06899744, -0.09465273,  0.05574527, ..., -0.03236806,\n",
       "          0.07583306, -0.0653182 ],\n",
       "        [-0.10524278,  0.00906706, -0.09382492, ...,  0.05125754,\n",
       "          0.03009105,  0.1040299 ],\n",
       "        [-0.0915538 ,  0.05282411,  0.12055134, ..., -0.03823863,\n",
       "         -0.11188319, -0.11140351],\n",
       "        ...,\n",
       "        [ 0.1428256 ,  0.14131975,  0.10991034, ...,  0.0122526 ,\n",
       "         -0.0407187 , -0.11598814],\n",
       "        [ 0.05526335,  0.00571289,  0.07888199, ..., -0.06696288,\n",
       "          0.18547378,  0.13633049],\n",
       "        [ 0.14058651,  0.16818707,  0.11820994, ...,  0.107252  ,\n",
       "          0.1756409 , -0.12436707]], dtype=float32),\n",
       " array([[-0.05308628,  0.10404261,  0.04465659, ..., -0.01949481,\n",
       "         -0.00285062, -0.20085661],\n",
       "        [-0.00028944,  0.03777876,  0.08526967, ..., -0.16896313,\n",
       "         -0.09365872,  0.01651767],\n",
       "        [-0.05507345, -0.04631224, -0.09941915, ..., -0.11055412,\n",
       "          0.06415794,  0.00764725],\n",
       "        ...,\n",
       "        [-0.16579212, -0.13108836,  0.07703971, ..., -0.07215907,\n",
       "         -0.05811264, -0.19347723],\n",
       "        [-0.04325536,  0.07440317,  0.1061282 , ..., -0.24973354,\n",
       "          0.00067182, -0.03424365],\n",
       "        [ 0.10015237, -0.02397067,  0.13906434, ..., -0.13069701,\n",
       "          0.05447637,  0.00329715]], dtype=float32),\n",
       " array([-0.02704174,  0.00250486, -0.01651411,  0.02231985, -0.0132021 ,\n",
       "         0.01577933,  0.00836853, -0.00041194,  0.02126477,  0.02892177,\n",
       "         0.0291789 , -0.03274334, -0.04214095, -0.04256051, -0.01497072,\n",
       "        -0.05495226, -0.06854351, -0.0136863 , -0.01397977, -0.01788861,\n",
       "         0.00179588, -0.09927729,  0.06026317,  0.00886854, -0.05787097,\n",
       "        -0.01474897, -0.00586252, -0.02174473, -0.00628056, -0.0528661 ,\n",
       "         0.0528457 ,  0.01603945, -0.01309384, -0.05560463, -0.00360613,\n",
       "        -0.05433322, -0.02109252, -0.0567656 ,  0.01793422,  0.03518433,\n",
       "        -0.05759979, -0.03035811, -0.02456741, -0.00381886, -0.03906068,\n",
       "        -0.0511708 , -0.00725912, -0.01542995, -0.05835446,  0.02734366,\n",
       "        -0.05396529, -0.01446319, -0.01988938, -0.05049882, -0.00843043,\n",
       "        -0.00916605,  0.06820085,  0.00044824, -0.01435597, -0.05359969,\n",
       "         0.04096757, -0.00395487, -0.05739839,  0.021302  , -0.0595443 ,\n",
       "        -0.00274751, -0.02850199,  0.02391019,  0.01876301,  0.02344765,\n",
       "        -0.01646978,  0.02713951,  0.03104449, -0.07863515, -0.00812771,\n",
       "        -0.07827774, -0.07110074, -0.00187595, -0.02586424, -0.03542212,\n",
       "        -0.05680511,  0.04430935,  0.00855666,  0.01456054, -0.03732899,\n",
       "        -0.03346624, -0.03565395,  0.01432289, -0.03946134,  0.0334254 ,\n",
       "        -0.05135847,  0.00413862,  0.00975042,  0.00743114, -0.07871071,\n",
       "         0.01047163, -0.05789224,  0.03175665, -0.08884631, -0.04762735,\n",
       "        -0.00776428,  0.00673651, -0.05902964,  0.00368414, -0.07824834,\n",
       "        -0.01912368, -0.03882993,  0.03783693, -0.01909748,  0.01437375,\n",
       "         0.04141163,  0.00367253, -0.02545914, -0.0142882 , -0.04604349,\n",
       "         0.02528998, -0.0866492 ,  0.00790947, -0.06977189,  0.02586447,\n",
       "        -0.03046578, -0.05044198,  0.00281301, -0.02947983,  0.0033262 ,\n",
       "        -0.01050533, -0.01218848,  0.00027435], dtype=float32),\n",
       " array([[ 0.07895853],\n",
       "        [-0.20481183],\n",
       "        [ 0.01922707],\n",
       "        [-0.21374483],\n",
       "        [-0.09199849],\n",
       "        [-0.01295433],\n",
       "        [-0.02205629],\n",
       "        [ 0.03024584],\n",
       "        [ 0.11105557],\n",
       "        [-0.07841653],\n",
       "        [ 0.26644793],\n",
       "        [ 0.13221776],\n",
       "        [-0.11304801],\n",
       "        [-0.24256493],\n",
       "        [ 0.15825488],\n",
       "        [ 0.01541117],\n",
       "        [-0.14782234],\n",
       "        [-0.26501513],\n",
       "        [-0.12398051],\n",
       "        [ 0.15417436],\n",
       "        [-0.12214399],\n",
       "        [ 0.259214  ],\n",
       "        [-0.07341094],\n",
       "        [-0.12841944],\n",
       "        [-0.06179323],\n",
       "        [ 0.14573264],\n",
       "        [ 0.09422513],\n",
       "        [-0.07482336],\n",
       "        [ 0.13330045],\n",
       "        [-0.17007105],\n",
       "        [-0.07683554],\n",
       "        [ 0.01650315],\n",
       "        [-0.16390403],\n",
       "        [-0.12345697],\n",
       "        [-0.12155857],\n",
       "        [ 0.00349382],\n",
       "        [-0.04277008],\n",
       "        [-0.15984574],\n",
       "        [ 0.1429687 ],\n",
       "        [ 0.00884837],\n",
       "        [ 0.18510295],\n",
       "        [-0.07809707],\n",
       "        [-0.00427141],\n",
       "        [-0.03985691],\n",
       "        [-0.12622786],\n",
       "        [-0.00294594],\n",
       "        [ 0.21653399],\n",
       "        [ 0.03947541],\n",
       "        [ 0.01560143],\n",
       "        [-0.23967895],\n",
       "        [ 0.03131191],\n",
       "        [-0.0407734 ],\n",
       "        [ 0.1593468 ],\n",
       "        [ 0.02666416],\n",
       "        [ 0.25502214],\n",
       "        [ 0.05441616],\n",
       "        [-0.00302397],\n",
       "        [-0.06735339],\n",
       "        [ 0.18176058],\n",
       "        [-0.20555562],\n",
       "        [-0.05528852],\n",
       "        [ 0.03622429],\n",
       "        [-0.17730118],\n",
       "        [-0.15229863],\n",
       "        [-0.1465907 ],\n",
       "        [ 0.09411262],\n",
       "        [-0.12072583],\n",
       "        [-0.06385188],\n",
       "        [ 0.1176412 ],\n",
       "        [-0.15873864],\n",
       "        [-0.064215  ],\n",
       "        [ 0.02608183],\n",
       "        [ 0.13558272],\n",
       "        [ 0.0155602 ],\n",
       "        [ 0.14093968],\n",
       "        [ 0.16279545],\n",
       "        [-0.02867273],\n",
       "        [ 0.08639818],\n",
       "        [ 0.15892518],\n",
       "        [ 0.11170674],\n",
       "        [ 0.03400214],\n",
       "        [ 0.07775283],\n",
       "        [-0.05397482],\n",
       "        [-0.05119904],\n",
       "        [ 0.11860181],\n",
       "        [ 0.13427423],\n",
       "        [ 0.1120517 ],\n",
       "        [ 0.00798455],\n",
       "        [ 0.20542324],\n",
       "        [ 0.05990603],\n",
       "        [ 0.0952613 ],\n",
       "        [-0.13434662],\n",
       "        [ 0.13185692],\n",
       "        [-0.06653823],\n",
       "        [ 0.15425548],\n",
       "        [ 0.02785477],\n",
       "        [ 0.1259623 ],\n",
       "        [-0.206624  ],\n",
       "        [ 0.12073966],\n",
       "        [ 0.03941265],\n",
       "        [-1.4210078 ],\n",
       "        [ 0.22488311],\n",
       "        [-0.3937907 ],\n",
       "        [ 0.02841432],\n",
       "        [-0.11112646],\n",
       "        [ 0.22432365],\n",
       "        [-0.06972451],\n",
       "        [ 0.04817082],\n",
       "        [ 0.10590924],\n",
       "        [ 0.14343926],\n",
       "        [ 0.1683052 ],\n",
       "        [-0.04097099],\n",
       "        [ 0.09264692],\n",
       "        [ 0.10011673],\n",
       "        [-0.12233395],\n",
       "        [ 0.17458175],\n",
       "        [ 0.06236751],\n",
       "        [-0.09865086],\n",
       "        [-0.5804181 ],\n",
       "        [ 0.19934073],\n",
       "        [ 0.15227874],\n",
       "        [ 0.22871332],\n",
       "        [-0.20642959],\n",
       "        [-0.01081938],\n",
       "        [ 0.12788382],\n",
       "        [-0.12298346],\n",
       "        [ 0.1190929 ],\n",
       "        [-0.08813468]], dtype=float32),\n",
       " array([-0.07481866], dtype=float32)]"
      ]
     },
     "execution_count": 16,
     "metadata": {},
     "output_type": "execute_result"
    }
   ],
   "source": [
    "model.get_weights()"
   ]
  },
  {
   "cell_type": "markdown",
   "id": "c741416a",
   "metadata": {},
   "source": [
    "## Helper Functions"
   ]
  },
  {
   "cell_type": "markdown",
   "id": "4edfae72",
   "metadata": {},
   "source": [
    "### Function to decode reviews"
   ]
  },
  {
   "cell_type": "code",
   "execution_count": 17,
   "id": "3417eaf3",
   "metadata": {},
   "outputs": [],
   "source": [
    "def decode_review(encoded_review):\n",
    "    return ' '.join([reverse_word_index.get(i - 3, '?') for i in encoded_review])"
   ]
  },
  {
   "cell_type": "markdown",
   "id": "3bf1b6a1",
   "metadata": {},
   "source": [
    "### Function to preprocess user input"
   ]
  },
  {
   "cell_type": "code",
   "execution_count": 18,
   "id": "59a51b40",
   "metadata": {},
   "outputs": [],
   "source": [
    "def preprocess_text(text):\n",
    "    words = text.lower().split()\n",
    "    encoded_review = [word_index.get(word, 2) + 3 for word in words]\n",
    "    padded_review = sequence.pad_sequences([encoded_review], maxlen=500)\n",
    "    return padded_review"
   ]
  },
  {
   "cell_type": "markdown",
   "id": "2693729f",
   "metadata": {},
   "source": [
    "### Prediction function"
   ]
  },
  {
   "cell_type": "code",
   "execution_count": 19,
   "id": "efac38b0",
   "metadata": {},
   "outputs": [],
   "source": [
    "def predict_sentiment(review):\n",
    "    preprocessed_input = preprocess_text(review)\n",
    "    prediction = model.predict(preprocessed_input)\n",
    "    sentiment = 'Positive' if prediction[0][0] > 0.5 else 'Negative'\n",
    "    return sentiment, prediction[0][0]"
   ]
  },
  {
   "cell_type": "markdown",
   "id": "160daf32",
   "metadata": {},
   "source": [
    "## Testing with sample input"
   ]
  },
  {
   "cell_type": "code",
   "execution_count": 20,
   "id": "51258390",
   "metadata": {},
   "outputs": [
    {
     "name": "stdout",
     "output_type": "stream",
     "text": [
      "\u001b[1m1/1\u001b[0m \u001b[32m━━━━━━━━━━━━━━━━━━━━\u001b[0m\u001b[37m\u001b[0m \u001b[1m0s\u001b[0m 133ms/step\n",
      "Review: This movie was fantastic! The acting was great.\n",
      "Sentiment: Positive\n",
      "Prediction Score: 0.5263769030570984\n"
     ]
    }
   ],
   "source": [
    "example_review = \"This movie was fantastic! The acting was great.\"\n",
    "\n",
    "sentiment, score = predict_sentiment(example_review)\n",
    "\n",
    "print(f'Review: {example_review}')\n",
    "print(f'Sentiment: {sentiment}')\n",
    "print(f'Prediction Score: {score}')"
   ]
  }
 ],
 "metadata": {
  "kernelspec": {
   "display_name": "venv",
   "language": "python",
   "name": "python3"
  },
  "language_info": {
   "codemirror_mode": {
    "name": "ipython",
    "version": 3
   },
   "file_extension": ".py",
   "mimetype": "text/x-python",
   "name": "python",
   "nbconvert_exporter": "python",
   "pygments_lexer": "ipython3",
   "version": "3.12.9"
  }
 },
 "nbformat": 4,
 "nbformat_minor": 5
}
